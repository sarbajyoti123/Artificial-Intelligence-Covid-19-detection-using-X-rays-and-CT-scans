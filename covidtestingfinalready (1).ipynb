{
  "nbformat": 4,
  "nbformat_minor": 0,
  "metadata": {
    "colab": {
      "name": "covidtestingfinalready.ipynb",
      "provenance": [],
      "collapsed_sections": []
    },
    "kernelspec": {
      "name": "python3",
      "display_name": "Python 3"
    },
    "accelerator": "GPU"
  },
  "cells": [
    {
      "cell_type": "code",
      "metadata": {
        "id": "MbSaEz_tHZJU",
        "colab_type": "code",
        "colab": {}
      },
      "source": [
        "import keras\n",
        "from keras.models import Sequential\n",
        "from keras.layers import Dense\n",
        "from keras.layers import Convolution2D\n",
        "from keras.layers import MaxPooling2D\n",
        "from keras.layers import Flatten\n",
        "from keras.layers import Dropout\n",
        "from keras.models import Model,load_model\n",
        "import numpy as np\n",
        "import tensorflow as tf"
      ],
      "execution_count": 0,
      "outputs": []
    },
    {
      "cell_type": "code",
      "metadata": {
        "id": "d7YWct-3ju7O",
        "colab_type": "code",
        "colab": {
          "base_uri": "https://localhost:8080/",
          "height": 118
        },
        "outputId": "3fb7239f-253b-484a-8786-c855614e707d"
      },
      "source": [
        "!unzip xray.zip"
      ],
      "execution_count": 25,
      "outputs": [
        {
          "output_type": "stream",
          "text": [
            "Archive:  xray.zip\n",
            "replace xray/test/Covid_19/covid_19 1.jpg? [y]es, [n]o, [A]ll, [N]one, [r]ename: [n]o\n",
            "error:  invalid response [[n]o]\n",
            "replace xray/test/Covid_19/covid_19 1.jpg? [y]es, [n]o, [A]ll, [N]one, [r]ename: [N]one\n",
            "error:  invalid response [[N]one]\n",
            "replace xray/test/Covid_19/covid_19 1.jpg? [y]es, [n]o, [A]ll, [N]one, [r]ename: N\n"
          ],
          "name": "stdout"
        }
      ]
    },
    {
      "cell_type": "code",
      "metadata": {
        "id": "8YXw7ZYikUtF",
        "colab_type": "code",
        "colab": {
          "base_uri": "https://localhost:8080/",
          "height": 222
        },
        "outputId": "0517229c-82a8-4196-fef6-cc84febe07e9"
      },
      "source": [
        "classifier=Sequential()\n",
        "\n",
        "classifier.add(Convolution2D(32,3,3,input_shape=(256,256,3),activation='relu'))\n",
        "classifier.add(MaxPooling2D(pool_size=(2,2)))\n",
        "\n",
        "classifier.add(Convolution2D(32,3,3,activation='relu'))\n",
        "classifier.add(MaxPooling2D(pool_size=(2,2)))\n",
        "\n",
        "classifier.add(Convolution2D(64,3,3,activation='relu'))\n",
        "classifier.add(MaxPooling2D(pool_size=(2,2)))\n",
        "\n",
        "classifier.add(Convolution2D(128,3,3,activation='relu'))\n",
        "classifier.add(MaxPooling2D(pool_size=(2,2)))\n",
        "\n",
        "classifier.add(Flatten())\n",
        "\n",
        "classifier.add(Dense(output_dim=128,activation='relu'))\n",
        "classifier.add(Dense(output_dim=128,activation='relu'))\n",
        "\n",
        "classifier.add(Dense(output_dim=3,activation='softmax'))\n",
        "\n",
        "classifier.compile(optimizer='adam',loss='categorical_crossentropy',metrics=['accuracy'])\n"
      ],
      "execution_count": 26,
      "outputs": [
        {
          "output_type": "stream",
          "text": [
            "/usr/local/lib/python3.6/dist-packages/ipykernel_launcher.py:3: UserWarning: Update your `Conv2D` call to the Keras 2 API: `Conv2D(32, (3, 3), input_shape=(256, 256,..., activation=\"relu\")`\n",
            "  This is separate from the ipykernel package so we can avoid doing imports until\n",
            "/usr/local/lib/python3.6/dist-packages/ipykernel_launcher.py:6: UserWarning: Update your `Conv2D` call to the Keras 2 API: `Conv2D(32, (3, 3), activation=\"relu\")`\n",
            "  \n",
            "/usr/local/lib/python3.6/dist-packages/ipykernel_launcher.py:9: UserWarning: Update your `Conv2D` call to the Keras 2 API: `Conv2D(64, (3, 3), activation=\"relu\")`\n",
            "  if __name__ == '__main__':\n",
            "/usr/local/lib/python3.6/dist-packages/ipykernel_launcher.py:12: UserWarning: Update your `Conv2D` call to the Keras 2 API: `Conv2D(128, (3, 3), activation=\"relu\")`\n",
            "  if sys.path[0] == '':\n",
            "/usr/local/lib/python3.6/dist-packages/ipykernel_launcher.py:17: UserWarning: Update your `Dense` call to the Keras 2 API: `Dense(activation=\"relu\", units=128)`\n",
            "/usr/local/lib/python3.6/dist-packages/ipykernel_launcher.py:18: UserWarning: Update your `Dense` call to the Keras 2 API: `Dense(activation=\"relu\", units=128)`\n",
            "/usr/local/lib/python3.6/dist-packages/ipykernel_launcher.py:20: UserWarning: Update your `Dense` call to the Keras 2 API: `Dense(activation=\"softmax\", units=3)`\n"
          ],
          "name": "stderr"
        }
      ]
    },
    {
      "cell_type": "code",
      "metadata": {
        "id": "4Vqnrr_zk06h",
        "colab_type": "code",
        "colab": {
          "base_uri": "https://localhost:8080/",
          "height": 50
        },
        "outputId": "459fbcb2-c071-4771-8ba3-e761b55959f8"
      },
      "source": [
        "from keras.preprocessing.image import ImageDataGenerator,img_to_array,load_img\n",
        "\n",
        "train_datagen = ImageDataGenerator(rescale=1./255,shear_range=0.2,zoom_range=0.2,horizontal_flip=True)\n",
        "\n",
        "test_datagen = ImageDataGenerator(rescale=1./255)\n",
        "\n",
        "training_set = train_datagen.flow_from_directory(\"/content/xray/train\",target_size=(256,256),batch_size=10,class_mode='categorical')\n",
        "\n",
        "testing_set = test_datagen.flow_from_directory(\"/content/xray/test\",target_size=(256,256),batch_size=2,class_mode='categorical')\n",
        "\n",
        "\n"
      ],
      "execution_count": 27,
      "outputs": [
        {
          "output_type": "stream",
          "text": [
            "Found 600 images belonging to 3 classes.\n",
            "Found 69 images belonging to 3 classes.\n"
          ],
          "name": "stdout"
        }
      ]
    },
    {
      "cell_type": "code",
      "metadata": {
        "id": "WvGdMWgclWqW",
        "colab_type": "code",
        "colab": {
          "base_uri": "https://localhost:8080/",
          "height": 1000
        },
        "outputId": "5cdd03be-4671-434f-aef9-997ef53acbf0"
      },
      "source": [
        "classifier.fit_generator(training_set,samples_per_epoch=600,nb_epoch=50,validation_data=testing_set,nb_val_samples=69)\n"
      ],
      "execution_count": 28,
      "outputs": [
        {
          "output_type": "stream",
          "text": [
            "/usr/local/lib/python3.6/dist-packages/ipykernel_launcher.py:1: UserWarning: The semantics of the Keras 2 argument `steps_per_epoch` is not the same as the Keras 1 argument `samples_per_epoch`. `steps_per_epoch` is the number of batches to draw from the generator at each epoch. Basically steps_per_epoch = samples_per_epoch/batch_size. Similarly `nb_val_samples`->`validation_steps` and `val_samples`->`steps` arguments have changed. Update your method calls accordingly.\n",
            "  \"\"\"Entry point for launching an IPython kernel.\n",
            "/usr/local/lib/python3.6/dist-packages/ipykernel_launcher.py:1: UserWarning: Update your `fit_generator` call to the Keras 2 API: `fit_generator(<keras.pre..., validation_data=<keras.pre..., steps_per_epoch=60, epochs=50, validation_steps=69)`\n",
            "  \"\"\"Entry point for launching an IPython kernel.\n"
          ],
          "name": "stderr"
        },
        {
          "output_type": "stream",
          "text": [
            "Epoch 1/50\n",
            "60/60 [==============================] - 29s 486ms/step - loss: 0.9203 - accuracy: 0.5700 - val_loss: 1.6709 - val_accuracy: 0.5401\n",
            "Epoch 2/50\n",
            "60/60 [==============================] - 25s 421ms/step - loss: 0.6123 - accuracy: 0.7533 - val_loss: 0.6993 - val_accuracy: 0.6397\n",
            "Epoch 3/50\n",
            "60/60 [==============================] - 26s 426ms/step - loss: 0.4771 - accuracy: 0.8383 - val_loss: 2.3597 - val_accuracy: 0.5956\n",
            "Epoch 4/50\n",
            "60/60 [==============================] - 24s 404ms/step - loss: 0.4072 - accuracy: 0.8383 - val_loss: 0.0523 - val_accuracy: 0.6765\n",
            "Epoch 5/50\n",
            "60/60 [==============================] - 25s 424ms/step - loss: 0.3540 - accuracy: 0.8733 - val_loss: 1.7393 - val_accuracy: 0.6838\n",
            "Epoch 6/50\n",
            "60/60 [==============================] - 24s 400ms/step - loss: 0.3678 - accuracy: 0.8550 - val_loss: 0.0195 - val_accuracy: 0.7794\n",
            "Epoch 7/50\n",
            "60/60 [==============================] - 24s 407ms/step - loss: 0.2896 - accuracy: 0.8900 - val_loss: 0.0023 - val_accuracy: 0.7132\n",
            "Epoch 8/50\n",
            "60/60 [==============================] - 25s 420ms/step - loss: 0.2868 - accuracy: 0.8950 - val_loss: 0.6551 - val_accuracy: 0.8824\n",
            "Epoch 9/50\n",
            "60/60 [==============================] - 24s 406ms/step - loss: 0.2703 - accuracy: 0.9117 - val_loss: 0.7086 - val_accuracy: 0.7206\n",
            "Epoch 10/50\n",
            "60/60 [==============================] - 24s 406ms/step - loss: 0.2349 - accuracy: 0.9133 - val_loss: 0.0053 - val_accuracy: 0.8309\n",
            "Epoch 11/50\n",
            "60/60 [==============================] - 24s 402ms/step - loss: 0.2200 - accuracy: 0.9267 - val_loss: 0.0876 - val_accuracy: 0.9412\n",
            "Epoch 12/50\n",
            "60/60 [==============================] - 24s 402ms/step - loss: 0.2287 - accuracy: 0.9283 - val_loss: 0.3065 - val_accuracy: 0.7868\n",
            "Epoch 13/50\n",
            "60/60 [==============================] - 24s 403ms/step - loss: 0.2265 - accuracy: 0.9267 - val_loss: 0.5233 - val_accuracy: 0.9118\n",
            "Epoch 14/50\n",
            "60/60 [==============================] - 24s 404ms/step - loss: 0.2128 - accuracy: 0.9250 - val_loss: 0.0970 - val_accuracy: 0.8971\n",
            "Epoch 15/50\n",
            "60/60 [==============================] - 25s 418ms/step - loss: 0.2121 - accuracy: 0.9217 - val_loss: 0.0459 - val_accuracy: 0.8750\n",
            "Epoch 16/50\n",
            "60/60 [==============================] - 24s 393ms/step - loss: 0.1836 - accuracy: 0.9283 - val_loss: 0.5722 - val_accuracy: 0.8382\n",
            "Epoch 17/50\n",
            "60/60 [==============================] - 25s 413ms/step - loss: 0.2072 - accuracy: 0.9350 - val_loss: 0.1540 - val_accuracy: 0.9559\n",
            "Epoch 18/50\n",
            "60/60 [==============================] - 24s 396ms/step - loss: 0.1357 - accuracy: 0.9500 - val_loss: 1.0731 - val_accuracy: 0.7794\n",
            "Epoch 19/50\n",
            "60/60 [==============================] - 24s 408ms/step - loss: 0.1734 - accuracy: 0.9400 - val_loss: 0.6881 - val_accuracy: 0.9265\n",
            "Epoch 20/50\n",
            "60/60 [==============================] - 25s 412ms/step - loss: 0.1472 - accuracy: 0.9533 - val_loss: 0.7717 - val_accuracy: 0.8088\n",
            "Epoch 21/50\n",
            "60/60 [==============================] - 24s 395ms/step - loss: 0.1622 - accuracy: 0.9417 - val_loss: 0.7613 - val_accuracy: 0.8897\n",
            "Epoch 22/50\n",
            "60/60 [==============================] - 24s 404ms/step - loss: 0.1152 - accuracy: 0.9683 - val_loss: 0.0405 - val_accuracy: 0.9559\n",
            "Epoch 23/50\n",
            "60/60 [==============================] - 24s 403ms/step - loss: 0.1330 - accuracy: 0.9533 - val_loss: 2.8497 - val_accuracy: 0.8529\n",
            "Epoch 24/50\n",
            "60/60 [==============================] - 23s 391ms/step - loss: 0.1960 - accuracy: 0.9350 - val_loss: 0.0936 - val_accuracy: 0.8603\n",
            "Epoch 25/50\n",
            "60/60 [==============================] - 24s 404ms/step - loss: 0.1952 - accuracy: 0.9417 - val_loss: 0.0017 - val_accuracy: 0.8676\n",
            "Epoch 26/50\n",
            "60/60 [==============================] - 24s 397ms/step - loss: 0.1168 - accuracy: 0.9583 - val_loss: 0.0017 - val_accuracy: 0.8750\n",
            "Epoch 27/50\n",
            "60/60 [==============================] - 24s 403ms/step - loss: 0.0981 - accuracy: 0.9633 - val_loss: 9.3910e-04 - val_accuracy: 0.8824\n",
            "Epoch 28/50\n",
            "60/60 [==============================] - 24s 403ms/step - loss: 0.1211 - accuracy: 0.9600 - val_loss: 1.1574e-04 - val_accuracy: 0.8897\n",
            "Epoch 29/50\n",
            "60/60 [==============================] - 24s 404ms/step - loss: 0.0931 - accuracy: 0.9683 - val_loss: 1.1134 - val_accuracy: 0.8676\n",
            "Epoch 30/50\n",
            "60/60 [==============================] - 24s 406ms/step - loss: 0.1229 - accuracy: 0.9567 - val_loss: 0.8633 - val_accuracy: 0.8750\n",
            "Epoch 31/50\n",
            "60/60 [==============================] - 24s 399ms/step - loss: 0.0766 - accuracy: 0.9683 - val_loss: 0.6811 - val_accuracy: 0.9191\n",
            "Epoch 32/50\n",
            "60/60 [==============================] - 24s 395ms/step - loss: 0.0960 - accuracy: 0.9683 - val_loss: 0.0025 - val_accuracy: 0.8897\n",
            "Epoch 33/50\n",
            "60/60 [==============================] - 25s 409ms/step - loss: 0.0965 - accuracy: 0.9633 - val_loss: 0.0021 - val_accuracy: 0.8971\n",
            "Epoch 34/50\n",
            "60/60 [==============================] - 24s 394ms/step - loss: 0.1483 - accuracy: 0.9517 - val_loss: 8.1990e-04 - val_accuracy: 0.8382\n",
            "Epoch 35/50\n",
            "60/60 [==============================] - 24s 396ms/step - loss: 0.0965 - accuracy: 0.9683 - val_loss: 0.0087 - val_accuracy: 0.9265\n",
            "Epoch 36/50\n",
            "60/60 [==============================] - 24s 393ms/step - loss: 0.0753 - accuracy: 0.9733 - val_loss: 0.0330 - val_accuracy: 0.8321\n",
            "Epoch 37/50\n",
            "60/60 [==============================] - 24s 398ms/step - loss: 0.0841 - accuracy: 0.9650 - val_loss: 5.6146e-05 - val_accuracy: 0.8824\n",
            "Epoch 38/50\n",
            "60/60 [==============================] - 24s 404ms/step - loss: 0.0757 - accuracy: 0.9717 - val_loss: 2.5592 - val_accuracy: 0.8456\n",
            "Epoch 39/50\n",
            "60/60 [==============================] - 23s 389ms/step - loss: 0.0670 - accuracy: 0.9750 - val_loss: 2.7756e-04 - val_accuracy: 0.9265\n",
            "Epoch 40/50\n",
            "60/60 [==============================] - 23s 391ms/step - loss: 0.0779 - accuracy: 0.9683 - val_loss: 0.1004 - val_accuracy: 0.8897\n",
            "Epoch 41/50\n",
            "60/60 [==============================] - 24s 394ms/step - loss: 0.0812 - accuracy: 0.9683 - val_loss: 1.1020e-04 - val_accuracy: 0.9265\n",
            "Epoch 42/50\n",
            "60/60 [==============================] - 25s 408ms/step - loss: 0.0749 - accuracy: 0.9700 - val_loss: 0.0095 - val_accuracy: 0.9118\n",
            "Epoch 43/50\n",
            "60/60 [==============================] - 24s 398ms/step - loss: 0.0605 - accuracy: 0.9800 - val_loss: 1.1165 - val_accuracy: 0.8897\n",
            "Epoch 44/50\n",
            "60/60 [==============================] - 24s 399ms/step - loss: 0.0544 - accuracy: 0.9783 - val_loss: 0.6179 - val_accuracy: 0.8162\n",
            "Epoch 45/50\n",
            "60/60 [==============================] - 24s 397ms/step - loss: 0.0614 - accuracy: 0.9783 - val_loss: 3.8275 - val_accuracy: 0.8824\n",
            "Epoch 46/50\n",
            "60/60 [==============================] - 23s 391ms/step - loss: 0.0853 - accuracy: 0.9750 - val_loss: 0.0093 - val_accuracy: 0.8824\n",
            "Epoch 47/50\n",
            "60/60 [==============================] - 23s 390ms/step - loss: 0.0498 - accuracy: 0.9900 - val_loss: 2.0802e-05 - val_accuracy: 0.8456\n",
            "Epoch 48/50\n",
            "60/60 [==============================] - 23s 391ms/step - loss: 0.0346 - accuracy: 0.9900 - val_loss: 3.5472 - val_accuracy: 0.8088\n",
            "Epoch 49/50\n",
            "60/60 [==============================] - 24s 404ms/step - loss: 0.0625 - accuracy: 0.9750 - val_loss: 0.0069 - val_accuracy: 0.8603\n",
            "Epoch 50/50\n",
            "60/60 [==============================] - 23s 387ms/step - loss: 0.0391 - accuracy: 0.9883 - val_loss: 0.0000e+00 - val_accuracy: 0.9338\n"
          ],
          "name": "stdout"
        },
        {
          "output_type": "execute_result",
          "data": {
            "text/plain": [
              "<keras.callbacks.callbacks.History at 0x7f8e25a38518>"
            ]
          },
          "metadata": {
            "tags": []
          },
          "execution_count": 28
        }
      ]
    },
    {
      "cell_type": "code",
      "metadata": {
        "id": "V4-lm4c4tbj-",
        "colab_type": "code",
        "colab": {}
      },
      "source": [
        "classifier.save('covidrgb.h5')"
      ],
      "execution_count": 0,
      "outputs": []
    },
    {
      "cell_type": "code",
      "metadata": {
        "id": "4JnhSekEtlXK",
        "colab_type": "code",
        "colab": {
          "base_uri": "https://localhost:8080/",
          "height": 34
        },
        "outputId": "f39c3924-1e23-4665-df78-8d8107d0b62a"
      },
      "source": [
        "!pip install -U -q PyDrive\n",
        "from pydrive.auth import GoogleAuth\n",
        "from pydrive.drive import GoogleDrive\n",
        "from google.colab import auth\n",
        "from oauth2client.client import GoogleCredentials\n",
        "\n",
        "# 1. Authenticate and create the PyDrive client.\n",
        "auth.authenticate_user()\n",
        "gauth = GoogleAuth()\n",
        "gauth.credentials = GoogleCredentials.get_application_default()\n",
        "drive = GoogleDrive(gauth)\n",
        "\n",
        "# 2. Save Keras Model or weights on google drive\n",
        "\n",
        "# create on Colab directory\n",
        "classifier.save('covidrgbfinal.h5')    \n",
        "model_file = drive.CreateFile({'title' : 'covidrgbfinal.h5'})\n",
        "model_file.SetContentFile('covidrgbfinal.h5')\n",
        "model_file.Upload()\n",
        "\n",
        "# download to google drive\n",
        "drive.CreateFile({'id': model_file.get('id')})"
      ],
      "execution_count": 30,
      "outputs": [
        {
          "output_type": "execute_result",
          "data": {
            "text/plain": [
              "GoogleDriveFile({'id': '1QNw8cGeTHb0WwM2l15VFFw7cA1U0nE1c'})"
            ]
          },
          "metadata": {
            "tags": []
          },
          "execution_count": 30
        }
      ]
    },
    {
      "cell_type": "code",
      "metadata": {
        "id": "vSeMgwDHuDWC",
        "colab_type": "code",
        "colab": {}
      },
      "source": [
        "\n",
        "model=load_model('covidrgbfinal.h5')"
      ],
      "execution_count": 0,
      "outputs": []
    },
    {
      "cell_type": "code",
      "metadata": {
        "id": "8YQrZyGvwdzk",
        "colab_type": "code",
        "colab": {
          "base_uri": "https://localhost:8080/",
          "height": 50
        },
        "outputId": "54152eb2-963a-459d-fc34-5d7355fdbf38"
      },
      "source": [
        "from keras.preprocessing import image\n",
        "test_image=image.load_img('/content/Pneumonia 12.jpg',target_size=(256,256))\n",
        "\n",
        "test_image=image.img_to_array(test_image)\n",
        "test_image=np.expand_dims(test_image,axis=0)\n",
        "proba = model.predict(test_image)\n",
        "class_idx = np.argmax(proba)\n",
        "print(proba)\n",
        "\n",
        "if class_idx==0:\n",
        "    label=\"Covid-19\"\n",
        "elif class_idx==1:\n",
        "    label=\"Normal\"\n",
        "elif class_idx==2:\n",
        "    label=\"Pneumonia\"\n",
        "else:\n",
        "    label=\"Unknown\"\n",
        "\n",
        "# label = \"{}: {:.2f}%\".format(label, proba[class_idx] * 100)\n",
        "print(\"Result:- \"+str(label))\n",
        "\n"
      ],
      "execution_count": 52,
      "outputs": [
        {
          "output_type": "stream",
          "text": [
            "[[0. 0. 1.]]\n",
            "Result:- Pneumonia\n"
          ],
          "name": "stdout"
        }
      ]
    },
    {
      "cell_type": "code",
      "metadata": {
        "id": "SpQv0Xkq_ae1",
        "colab_type": "code",
        "colab": {}
      },
      "source": [
        ""
      ],
      "execution_count": 0,
      "outputs": []
    }
  ]
}